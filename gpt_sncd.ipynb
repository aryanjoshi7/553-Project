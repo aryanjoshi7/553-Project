{
 "cells": [
  {
   "cell_type": "code",
   "execution_count": null,
   "metadata": {},
   "outputs": [],
   "source": [
    "import numpy as np"
   ]
  },
  {
   "cell_type": "code",
   "execution_count": null,
   "metadata": {},
   "outputs": [],
   "source": [
    "\n",
    "\n",
    "def huber_derivative(r, gamma):\n",
    "    \"\"\"Computes h_0^gamma (derivative of Huber loss)\"\"\"\n",
    "    return np.where(np.abs(r) <= gamma, r, gamma * np.sign(r))\n",
    "\n",
    "def huber_psi(r, gamma):\n",
    "    \"\"\"Computes psi_gamma (second derivative of Huber loss)\"\"\"\n",
    "    return np.where(np.abs(r) <= gamma, 1, 0)\n",
    "\n",
    "def sncd(X, y, lambda_, alpha, tau=0.5, gamma=1.0, max_iter=100):\n",
    "    \"\"\"Solves penalized Huber regression using Sequential Negative Coordinate Descent (SNCD)\"\"\"\n",
    "    n, p = X.shape\n",
    "    beta = np.zeros(p)\n",
    "    s = np.zeros(p)\n",
    "    beta_0 = 0\n",
    "    \n",
    "    for _ in range(max_iter):\n",
    "        # Compute residuals\n",
    "        r = y - (beta_0 + X @ beta)\n",
    "        \n",
    "        # Update beta_0\n",
    "        beta_0 += (np.sum(huber_derivative(r, gamma)) + 2 * tau - 1) / np.sum(huber_psi(r, gamma))\n",
    "        \n",
    "        for j in range(p):\n",
    "            r = y - (beta_0 + X @ beta)  # Recompute residuals\n",
    "            \n",
    "            num = np.sum(huber_derivative(r, gamma) * X[:, j]) + (2 * tau - 1)\n",
    "            den = np.sum(huber_psi(r, gamma) * X[:, j] ** 2) / (2 * n) + lambda_ * (1 - alpha)\n",
    "            \n",
    "            if np.abs(beta[j] + s[j]) > 1:\n",
    "                beta[j] += (num / (2 * n) - lambda_ * alpha * np.sign(beta[j] + s[j]) - lambda_ * (1 - alpha) * beta[j]) / den\n",
    "                s[j] = np.sign(beta[j] + s[j])\n",
    "            else:\n",
    "                beta[j] = 0\n",
    "                s[j] = (num / (2 * n) + beta[j] * (den / lambda_ * alpha))\n",
    "    \n",
    "    return beta_0, beta\n"
   ]
  }
 ],
 "metadata": {
  "language_info": {
   "name": "python"
  }
 },
 "nbformat": 4,
 "nbformat_minor": 2
}
