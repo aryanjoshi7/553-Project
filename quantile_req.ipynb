{
 "cells": [
  {
   "cell_type": "code",
   "execution_count": 4,
   "metadata": {},
   "outputs": [],
   "source": [
    "import numpy as np\n",
    "import matplotlib.pyplot as plt\n"
   ]
  },
  {
   "cell_type": "code",
   "execution_count": 5,
   "metadata": {},
   "outputs": [],
   "source": [
    "rng = np.random.RandomState(42)\n",
    "x = np.linspace(start=0, stop=10, num=100)\n",
    "X = x[:, np.newaxis]\n",
    "y_true_mean = 10 + 0.5 * x"
   ]
  },
  {
   "cell_type": "code",
   "execution_count": 17,
   "metadata": {},
   "outputs": [
    {
     "data": {
      "text/plain": [
       "array([10.        , 10.05050505, 10.1010101 , 10.15151515, 10.2020202 ,\n",
       "       10.25252525, 10.3030303 , 10.35353535, 10.4040404 , 10.45454545,\n",
       "       10.50505051, 10.55555556, 10.60606061, 10.65656566, 10.70707071,\n",
       "       10.75757576, 10.80808081, 10.85858586, 10.90909091, 10.95959596,\n",
       "       11.01010101, 11.06060606, 11.11111111, 11.16161616, 11.21212121,\n",
       "       11.26262626, 11.31313131, 11.36363636, 11.41414141, 11.46464646,\n",
       "       11.51515152, 11.56565657, 11.61616162, 11.66666667, 11.71717172,\n",
       "       11.76767677, 11.81818182, 11.86868687, 11.91919192, 11.96969697,\n",
       "       12.02020202, 12.07070707, 12.12121212, 12.17171717, 12.22222222,\n",
       "       12.27272727, 12.32323232, 12.37373737, 12.42424242, 12.47474747,\n",
       "       12.52525253, 12.57575758, 12.62626263, 12.67676768, 12.72727273,\n",
       "       12.77777778, 12.82828283, 12.87878788, 12.92929293, 12.97979798,\n",
       "       13.03030303, 13.08080808, 13.13131313, 13.18181818, 13.23232323,\n",
       "       13.28282828, 13.33333333, 13.38383838, 13.43434343, 13.48484848,\n",
       "       13.53535354, 13.58585859, 13.63636364, 13.68686869, 13.73737374,\n",
       "       13.78787879, 13.83838384, 13.88888889, 13.93939394, 13.98989899,\n",
       "       14.04040404, 14.09090909, 14.14141414, 14.19191919, 14.24242424,\n",
       "       14.29292929, 14.34343434, 14.39393939, 14.44444444, 14.49494949,\n",
       "       14.54545455, 14.5959596 , 14.64646465, 14.6969697 , 14.74747475,\n",
       "       14.7979798 , 14.84848485, 14.8989899 , 14.94949495, 15.        ])"
      ]
     },
     "execution_count": 17,
     "metadata": {},
     "output_type": "execute_result"
    }
   ],
   "source": [
    "X\n",
    "y_true_mean"
   ]
  },
  {
   "cell_type": "code",
   "execution_count": 19,
   "metadata": {},
   "outputs": [],
   "source": [
    "y_normal = y_true_mean + rng.normal(loc=0, scale=0.5 + 0.5 * x, size=x.shape[0])\n",
    "a = 5\n",
    "y_pareto = y_true_mean + 10 * (rng.pareto(a, size=x.shape[0]) - 1 / (a - 1))"
   ]
  },
  {
   "cell_type": "code",
   "execution_count": 25,
   "metadata": {},
   "outputs": [],
   "source": [
    "from sklearn.linear_model import QuantileRegressor\n",
    "\n",
    "quantiles = [0.05, 0.5, 0.95]\n",
    "predictions = {}\n",
    "out_bounds_predictions = np.zeros_like(y_true_mean, dtype=np.bool_)\n",
    "for quantile in quantiles:\n",
    "    qr = QuantileRegressor(quantile=quantile, alpha=0)\n",
    "    y_pred = qr.fit(X, y_normal).predict(X)\n",
    "    predictions[quantile] = y_pred\n",
    "\n",
    "    if quantile == min(quantiles):\n",
    "        out_bounds_predictions = np.logical_or(\n",
    "            out_bounds_predictions, y_pred >= y_normal\n",
    "        )\n",
    "    elif quantile == max(quantiles):\n",
    "        out_bounds_predictions = np.logical_or(\n",
    "            out_bounds_predictions, y_pred <= y_normal\n",
    "        )"
   ]
  },
  {
   "cell_type": "code",
   "execution_count": null,
   "metadata": {},
   "outputs": [],
   "source": []
  }
 ],
 "metadata": {
  "kernelspec": {
   "display_name": "proj_env",
   "language": "python",
   "name": "python3"
  },
  "language_info": {
   "codemirror_mode": {
    "name": "ipython",
    "version": 3
   },
   "file_extension": ".py",
   "mimetype": "text/x-python",
   "name": "python",
   "nbconvert_exporter": "python",
   "pygments_lexer": "ipython3",
   "version": "3.13.2"
  }
 },
 "nbformat": 4,
 "nbformat_minor": 2
}
